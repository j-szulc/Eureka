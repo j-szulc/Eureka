{
 "cells": [
  {
   "cell_type": "code",
   "execution_count": 39,
   "metadata": {},
   "outputs": [],
   "source": [
    "from tbparse import SummaryReader\n"
   ]
  },
  {
   "cell_type": "code",
   "execution_count": 40,
   "metadata": {},
   "outputs": [],
   "source": [
    "from pathlib import Path\n",
    "from tbparse import SummaryReader\n",
    "from tqdm import tqdm\n",
    "import re\n",
    "from datetime import datetime\n",
    "import matplotlib.pyplot as plt\n",
    "import numpy as np\n",
    "from itertools import groupby\n",
    "import pandas as pd\n",
    "\n",
    "# POLICIES=list(Path(\"/Users/jszulc/Desktop/outputs/eureka/2024-07-03_20-53-07\").rglob(\"policy*\"))\n",
    "METRIC = \"consecutive_successes\"\n",
    "SAMPLES_PER_ITER=3\n",
    "\n",
    "def parse_events(events):\n",
    "\n",
    "    # e = tensorboard.data.experimental.ExperimentFromDev(POLICIES[0].as_posix)\n",
    "    d = {}\n",
    "\n",
    "    date_re = re.compile(r\"(\\d{4}-\\d{2}-\\d{2}_\\d{2}-\\d{2}-\\d{2})\")\n",
    "    def get_date(s):\n",
    "        match = date_re.search(s)\n",
    "        return datetime.strptime(match.group(1), \"%Y-%m-%d_%H-%M-%S\")\n",
    "\n",
    "    for e in tqdm(events):\n",
    "        policy_parent = e.parent.parent.parent.parent\n",
    "        date = get_date(policy_parent.name)\n",
    "        df = SummaryReader(e.as_posix()).scalars\n",
    "        if df.empty:\n",
    "            continue\n",
    "        d[date] = df[df[\"tag\"] == METRIC]\n",
    "\n",
    "    _, values_per_sample = zip(*sorted(d.items()))\n",
    "    for i, df in enumerate(values_per_sample):\n",
    "        df[\"sample\"] = i\n",
    "        df[\"iter\"] = df[\"sample\"] // SAMPLES_PER_ITER\n",
    "\n",
    "    return pd.concat(values_per_sample)"
   ]
  },
  {
   "cell_type": "code",
   "execution_count": 41,
   "metadata": {},
   "outputs": [
    {
     "name": "stderr",
     "output_type": "stream",
     "text": [
      "100%|██████████| 9/9 [00:12<00:00,  1.34s/it]\n"
     ]
    }
   ],
   "source": [
    "BW = list(Path(\"/Users/jszulc/Desktop/misha/bezwykresow\").rglob(\"events*\"))\n",
    "ebw = parse_events(BW)"
   ]
  },
  {
   "cell_type": "code",
   "execution_count": 42,
   "metadata": {},
   "outputs": [
    {
     "data": {
      "text/html": [
       "<div>\n",
       "<style scoped>\n",
       "    .dataframe tbody tr th:only-of-type {\n",
       "        vertical-align: middle;\n",
       "    }\n",
       "\n",
       "    .dataframe tbody tr th {\n",
       "        vertical-align: top;\n",
       "    }\n",
       "\n",
       "    .dataframe thead th {\n",
       "        text-align: right;\n",
       "    }\n",
       "</style>\n",
       "<table border=\"1\" class=\"dataframe\">\n",
       "  <thead>\n",
       "    <tr style=\"text-align: right;\">\n",
       "      <th></th>\n",
       "      <th>step</th>\n",
       "      <th>tag</th>\n",
       "      <th>value</th>\n",
       "      <th>sample</th>\n",
       "      <th>iter</th>\n",
       "    </tr>\n",
       "  </thead>\n",
       "  <tbody>\n",
       "    <tr>\n",
       "      <th>3000</th>\n",
       "      <td>1</td>\n",
       "      <td>consecutive_successes</td>\n",
       "      <td>0.000000</td>\n",
       "      <td>0</td>\n",
       "      <td>0</td>\n",
       "    </tr>\n",
       "    <tr>\n",
       "      <th>3001</th>\n",
       "      <td>2</td>\n",
       "      <td>consecutive_successes</td>\n",
       "      <td>0.000000</td>\n",
       "      <td>0</td>\n",
       "      <td>0</td>\n",
       "    </tr>\n",
       "    <tr>\n",
       "      <th>3002</th>\n",
       "      <td>3</td>\n",
       "      <td>consecutive_successes</td>\n",
       "      <td>0.002225</td>\n",
       "      <td>0</td>\n",
       "      <td>0</td>\n",
       "    </tr>\n",
       "    <tr>\n",
       "      <th>3003</th>\n",
       "      <td>4</td>\n",
       "      <td>consecutive_successes</td>\n",
       "      <td>0.004319</td>\n",
       "      <td>0</td>\n",
       "      <td>0</td>\n",
       "    </tr>\n",
       "    <tr>\n",
       "      <th>3004</th>\n",
       "      <td>5</td>\n",
       "      <td>consecutive_successes</td>\n",
       "      <td>0.005495</td>\n",
       "      <td>0</td>\n",
       "      <td>0</td>\n",
       "    </tr>\n",
       "    <tr>\n",
       "      <th>...</th>\n",
       "      <td>...</td>\n",
       "      <td>...</td>\n",
       "      <td>...</td>\n",
       "      <td>...</td>\n",
       "      <td>...</td>\n",
       "    </tr>\n",
       "    <tr>\n",
       "      <th>5995</th>\n",
       "      <td>2996</td>\n",
       "      <td>consecutive_successes</td>\n",
       "      <td>0.767027</td>\n",
       "      <td>6</td>\n",
       "      <td>2</td>\n",
       "    </tr>\n",
       "    <tr>\n",
       "      <th>5996</th>\n",
       "      <td>2997</td>\n",
       "      <td>consecutive_successes</td>\n",
       "      <td>0.853602</td>\n",
       "      <td>6</td>\n",
       "      <td>2</td>\n",
       "    </tr>\n",
       "    <tr>\n",
       "      <th>5997</th>\n",
       "      <td>2998</td>\n",
       "      <td>consecutive_successes</td>\n",
       "      <td>0.871017</td>\n",
       "      <td>6</td>\n",
       "      <td>2</td>\n",
       "    </tr>\n",
       "    <tr>\n",
       "      <th>5998</th>\n",
       "      <td>2999</td>\n",
       "      <td>consecutive_successes</td>\n",
       "      <td>0.813265</td>\n",
       "      <td>6</td>\n",
       "      <td>2</td>\n",
       "    </tr>\n",
       "    <tr>\n",
       "      <th>5999</th>\n",
       "      <td>3000</td>\n",
       "      <td>consecutive_successes</td>\n",
       "      <td>0.819576</td>\n",
       "      <td>6</td>\n",
       "      <td>2</td>\n",
       "    </tr>\n",
       "  </tbody>\n",
       "</table>\n",
       "<p>20951 rows × 5 columns</p>\n",
       "</div>"
      ],
      "text/plain": [
       "      step                    tag     value  sample  iter\n",
       "3000     1  consecutive_successes  0.000000       0     0\n",
       "3001     2  consecutive_successes  0.000000       0     0\n",
       "3002     3  consecutive_successes  0.002225       0     0\n",
       "3003     4  consecutive_successes  0.004319       0     0\n",
       "3004     5  consecutive_successes  0.005495       0     0\n",
       "...    ...                    ...       ...     ...   ...\n",
       "5995  2996  consecutive_successes  0.767027       6     2\n",
       "5996  2997  consecutive_successes  0.853602       6     2\n",
       "5997  2998  consecutive_successes  0.871017       6     2\n",
       "5998  2999  consecutive_successes  0.813265       6     2\n",
       "5999  3000  consecutive_successes  0.819576       6     2\n",
       "\n",
       "[20951 rows x 5 columns]"
      ]
     },
     "execution_count": 42,
     "metadata": {},
     "output_type": "execute_result"
    }
   ],
   "source": [
    "ebw"
   ]
  },
  {
   "cell_type": "code",
   "execution_count": 43,
   "metadata": {},
   "outputs": [
    {
     "name": "stderr",
     "output_type": "stream",
     "text": [
      "100%|██████████| 9/9 [00:16<00:00,  1.83s/it]\n"
     ]
    },
    {
     "data": {
      "text/html": [
       "<div>\n",
       "<style scoped>\n",
       "    .dataframe tbody tr th:only-of-type {\n",
       "        vertical-align: middle;\n",
       "    }\n",
       "\n",
       "    .dataframe tbody tr th {\n",
       "        vertical-align: top;\n",
       "    }\n",
       "\n",
       "    .dataframe thead th {\n",
       "        text-align: right;\n",
       "    }\n",
       "</style>\n",
       "<table border=\"1\" class=\"dataframe\">\n",
       "  <thead>\n",
       "    <tr style=\"text-align: right;\">\n",
       "      <th></th>\n",
       "      <th>step</th>\n",
       "      <th>tag</th>\n",
       "      <th>value</th>\n",
       "      <th>sample</th>\n",
       "      <th>iter</th>\n",
       "    </tr>\n",
       "  </thead>\n",
       "  <tbody>\n",
       "    <tr>\n",
       "      <th>3000</th>\n",
       "      <td>1</td>\n",
       "      <td>consecutive_successes</td>\n",
       "      <td>0.000000</td>\n",
       "      <td>0</td>\n",
       "      <td>0</td>\n",
       "    </tr>\n",
       "    <tr>\n",
       "      <th>3001</th>\n",
       "      <td>2</td>\n",
       "      <td>consecutive_successes</td>\n",
       "      <td>0.000000</td>\n",
       "      <td>0</td>\n",
       "      <td>0</td>\n",
       "    </tr>\n",
       "    <tr>\n",
       "      <th>3002</th>\n",
       "      <td>3</td>\n",
       "      <td>consecutive_successes</td>\n",
       "      <td>0.002243</td>\n",
       "      <td>0</td>\n",
       "      <td>0</td>\n",
       "    </tr>\n",
       "    <tr>\n",
       "      <th>3003</th>\n",
       "      <td>4</td>\n",
       "      <td>consecutive_successes</td>\n",
       "      <td>0.005333</td>\n",
       "      <td>0</td>\n",
       "      <td>0</td>\n",
       "    </tr>\n",
       "    <tr>\n",
       "      <th>3004</th>\n",
       "      <td>5</td>\n",
       "      <td>consecutive_successes</td>\n",
       "      <td>0.007311</td>\n",
       "      <td>0</td>\n",
       "      <td>0</td>\n",
       "    </tr>\n",
       "    <tr>\n",
       "      <th>...</th>\n",
       "      <td>...</td>\n",
       "      <td>...</td>\n",
       "      <td>...</td>\n",
       "      <td>...</td>\n",
       "      <td>...</td>\n",
       "    </tr>\n",
       "    <tr>\n",
       "      <th>6022</th>\n",
       "      <td>2005</td>\n",
       "      <td>consecutive_successes</td>\n",
       "      <td>0.002367</td>\n",
       "      <td>8</td>\n",
       "      <td>2</td>\n",
       "    </tr>\n",
       "    <tr>\n",
       "      <th>6023</th>\n",
       "      <td>2006</td>\n",
       "      <td>consecutive_successes</td>\n",
       "      <td>0.006644</td>\n",
       "      <td>8</td>\n",
       "      <td>2</td>\n",
       "    </tr>\n",
       "    <tr>\n",
       "      <th>6024</th>\n",
       "      <td>2007</td>\n",
       "      <td>consecutive_successes</td>\n",
       "      <td>0.005203</td>\n",
       "      <td>8</td>\n",
       "      <td>2</td>\n",
       "    </tr>\n",
       "    <tr>\n",
       "      <th>6025</th>\n",
       "      <td>2008</td>\n",
       "      <td>consecutive_successes</td>\n",
       "      <td>0.004602</td>\n",
       "      <td>8</td>\n",
       "      <td>2</td>\n",
       "    </tr>\n",
       "    <tr>\n",
       "      <th>6026</th>\n",
       "      <td>2009</td>\n",
       "      <td>consecutive_successes</td>\n",
       "      <td>0.001981</td>\n",
       "      <td>8</td>\n",
       "      <td>2</td>\n",
       "    </tr>\n",
       "  </tbody>\n",
       "</table>\n",
       "<p>23958 rows × 5 columns</p>\n",
       "</div>"
      ],
      "text/plain": [
       "      step                    tag     value  sample  iter\n",
       "3000     1  consecutive_successes  0.000000       0     0\n",
       "3001     2  consecutive_successes  0.000000       0     0\n",
       "3002     3  consecutive_successes  0.002243       0     0\n",
       "3003     4  consecutive_successes  0.005333       0     0\n",
       "3004     5  consecutive_successes  0.007311       0     0\n",
       "...    ...                    ...       ...     ...   ...\n",
       "6022  2005  consecutive_successes  0.002367       8     2\n",
       "6023  2006  consecutive_successes  0.006644       8     2\n",
       "6024  2007  consecutive_successes  0.005203       8     2\n",
       "6025  2008  consecutive_successes  0.004602       8     2\n",
       "6026  2009  consecutive_successes  0.001981       8     2\n",
       "\n",
       "[23958 rows x 5 columns]"
      ]
     },
     "execution_count": 43,
     "metadata": {},
     "output_type": "execute_result"
    }
   ],
   "source": [
    "ZW = list(Path(\"/Users/jszulc/Desktop/misha/zwykresami\").rglob(\"events*\"))\n",
    "ezw = parse_events(ZW)\n",
    "ezw"
   ]
  },
  {
   "cell_type": "code",
   "execution_count": 44,
   "metadata": {},
   "outputs": [
    {
     "data": {
      "text/html": [
       "<div>\n",
       "<style scoped>\n",
       "    .dataframe tbody tr th:only-of-type {\n",
       "        vertical-align: middle;\n",
       "    }\n",
       "\n",
       "    .dataframe tbody tr th {\n",
       "        vertical-align: top;\n",
       "    }\n",
       "\n",
       "    .dataframe thead th {\n",
       "        text-align: right;\n",
       "    }\n",
       "</style>\n",
       "<table border=\"1\" class=\"dataframe\">\n",
       "  <thead>\n",
       "    <tr style=\"text-align: right;\">\n",
       "      <th></th>\n",
       "      <th>step</th>\n",
       "      <th>value</th>\n",
       "      <th>sample</th>\n",
       "      <th>iter</th>\n",
       "    </tr>\n",
       "  </thead>\n",
       "  <tbody>\n",
       "    <tr>\n",
       "      <th>count</th>\n",
       "      <td>23958.000000</td>\n",
       "      <td>23958.000000</td>\n",
       "      <td>23958.000000</td>\n",
       "      <td>23958.000000</td>\n",
       "    </tr>\n",
       "    <tr>\n",
       "      <th>mean</th>\n",
       "      <td>1377.419901</td>\n",
       "      <td>0.004571</td>\n",
       "      <td>3.609358</td>\n",
       "      <td>0.873028</td>\n",
       "    </tr>\n",
       "    <tr>\n",
       "      <th>std</th>\n",
       "      <td>834.793334</td>\n",
       "      <td>0.004668</td>\n",
       "      <td>2.467123</td>\n",
       "      <td>0.779901</td>\n",
       "    </tr>\n",
       "    <tr>\n",
       "      <th>min</th>\n",
       "      <td>1.000000</td>\n",
       "      <td>0.000000</td>\n",
       "      <td>0.000000</td>\n",
       "      <td>0.000000</td>\n",
       "    </tr>\n",
       "    <tr>\n",
       "      <th>25%</th>\n",
       "      <td>666.000000</td>\n",
       "      <td>0.001650</td>\n",
       "      <td>1.000000</td>\n",
       "      <td>0.000000</td>\n",
       "    </tr>\n",
       "    <tr>\n",
       "      <th>50%</th>\n",
       "      <td>1331.500000</td>\n",
       "      <td>0.003490</td>\n",
       "      <td>3.000000</td>\n",
       "      <td>1.000000</td>\n",
       "    </tr>\n",
       "    <tr>\n",
       "      <th>75%</th>\n",
       "      <td>2036.750000</td>\n",
       "      <td>0.005978</td>\n",
       "      <td>5.000000</td>\n",
       "      <td>1.000000</td>\n",
       "    </tr>\n",
       "    <tr>\n",
       "      <th>max</th>\n",
       "      <td>3000.000000</td>\n",
       "      <td>0.119753</td>\n",
       "      <td>8.000000</td>\n",
       "      <td>2.000000</td>\n",
       "    </tr>\n",
       "  </tbody>\n",
       "</table>\n",
       "</div>"
      ],
      "text/plain": [
       "               step         value        sample          iter\n",
       "count  23958.000000  23958.000000  23958.000000  23958.000000\n",
       "mean    1377.419901      0.004571      3.609358      0.873028\n",
       "std      834.793334      0.004668      2.467123      0.779901\n",
       "min        1.000000      0.000000      0.000000      0.000000\n",
       "25%      666.000000      0.001650      1.000000      0.000000\n",
       "50%     1331.500000      0.003490      3.000000      1.000000\n",
       "75%     2036.750000      0.005978      5.000000      1.000000\n",
       "max     3000.000000      0.119753      8.000000      2.000000"
      ]
     },
     "execution_count": 44,
     "metadata": {},
     "output_type": "execute_result"
    }
   ],
   "source": [
    "ezw.describe()"
   ]
  },
  {
   "cell_type": "code",
   "execution_count": 45,
   "metadata": {},
   "outputs": [],
   "source": [
    "ezw = ezw.groupby([\"iter\", \"step\"]).agg({\"value\": \"max\"})[\"value\"].reset_index()[\"value\"]\n",
    "ebw = ebw.groupby([\"iter\", \"step\"]).agg({\"value\": \"max\"})[\"value\"].reset_index()[\"value\"]\n",
    "ezw = ezw[:len(ebw)]\n",
    "ebw = ebw[:len(ezw)]"
   ]
  },
  {
   "cell_type": "code",
   "execution_count": 46,
   "metadata": {},
   "outputs": [
    {
     "data": {
      "text/plain": [
       "0       0.000000\n",
       "1       0.000000\n",
       "2       0.002261\n",
       "3       0.005333\n",
       "4       0.007311\n",
       "          ...   \n",
       "8237    0.003591\n",
       "8238    0.001546\n",
       "8239    0.005728\n",
       "8240    0.006451\n",
       "8241    0.002777\n",
       "Name: value, Length: 8242, dtype: float64"
      ]
     },
     "execution_count": 46,
     "metadata": {},
     "output_type": "execute_result"
    }
   ],
   "source": [
    "ezw"
   ]
  },
  {
   "cell_type": "code",
   "execution_count": 47,
   "metadata": {},
   "outputs": [
    {
     "data": {
      "text/plain": [
       "0       0.000000\n",
       "1       0.000000\n",
       "2       0.002261\n",
       "3       0.005386\n",
       "4       0.006278\n",
       "          ...   \n",
       "8237    0.537612\n",
       "8238    0.501150\n",
       "8239    0.680182\n",
       "8240    0.490247\n",
       "8241    0.474475\n",
       "Name: value, Length: 8242, dtype: float64"
      ]
     },
     "execution_count": 47,
     "metadata": {},
     "output_type": "execute_result"
    }
   ],
   "source": [
    "ebw"
   ]
  },
  {
   "cell_type": "code",
   "execution_count": 48,
   "metadata": {},
   "outputs": [
    {
     "data": {
      "image/png": "[encoded data removed]",
      "text/plain": [
       "<Figure size 640x480 with 1 Axes>"
      ]
     },
     "metadata": {},
     "output_type": "display_data"
    }
   ],
   "source": [
    "ebw.plot()\n",
    "ezw.plot()\n",
    "plt.xlabel(\"Epoch\")\n",
    "plt.ylabel(\"Expected consecutive successes\")\n",
    "plt.legend([\"Original\", \"With charts\"])\n",
    "plt.title(\"Original vs with charts, success rate per amount of work\")\n",
    "# import matplotlib.pyplot as plt\n",
    "\n",
    "# Your code to generate the plot\n",
    "\n",
    "plt.savefig('plot.tex', format='pgf')"
   ]
  },
  {
   "cell_type": "code",
   "execution_count": 49,
   "metadata": {},
   "outputs": [
    {
     "data": {
      "text/plain": [
       "0       0.000000\n",
       "1       0.000000\n",
       "2       0.002261\n",
       "3       0.005333\n",
       "4       0.007311\n",
       "          ...   \n",
       "8237    0.003591\n",
       "8238    0.001546\n",
       "8239    0.005728\n",
       "8240    0.006451\n",
       "8241    0.002777\n",
       "Name: value, Length: 8242, dtype: float64"
      ]
     },
     "execution_count": 49,
     "metadata": {},
     "output_type": "execute_result"
    }
   ],
   "source": [
    "ezw"
   ]
  },
  {
   "cell_type": "code",
   "execution_count": 50,
   "metadata": {},
   "outputs": [
    {
     "ename": "NameError",
     "evalue": "name 'do' is not defined",
     "output_type": "error",
     "traceback": [
      "\u001b[0;31m---------------------------------------------------------------------------\u001b[0m",
      "\u001b[0;31mNameError\u001b[0m                                 Traceback (most recent call last)",
      "Cell \u001b[0;32mIn[50], line 1\u001b[0m\n\u001b[0;32m----> 1\u001b[0m \u001b[43mdo\u001b[49m\u001b[38;5;241m.\u001b[39mgroupby([\u001b[38;5;124m\"\u001b[39m\u001b[38;5;124miter\u001b[39m\u001b[38;5;124m\"\u001b[39m, \u001b[38;5;124m\"\u001b[39m\u001b[38;5;124mstep\u001b[39m\u001b[38;5;124m\"\u001b[39m])\u001b[38;5;241m.\u001b[39magg({\u001b[38;5;124m\"\u001b[39m\u001b[38;5;124mvalue\u001b[39m\u001b[38;5;124m\"\u001b[39m: \u001b[38;5;124m\"\u001b[39m\u001b[38;5;124mmax\u001b[39m\u001b[38;5;124m\"\u001b[39m})[\u001b[38;5;124m\"\u001b[39m\u001b[38;5;124mvalue\u001b[39m\u001b[38;5;124m\"\u001b[39m]\u001b[38;5;241m.\u001b[39mplot()\n",
      "\u001b[0;31mNameError\u001b[0m: name 'do' is not defined"
     ]
    }
   ],
   "source": [
    "do.groupby([\"iter\", \"step\"]).agg({\"value\": \"max\"})[\"value\"].plot()"
   ]
  },
  {
   "cell_type": "code",
   "execution_count": null,
   "metadata": {},
   "outputs": [],
   "source": [
    "l = list(list(d)[0])"
   ]
  },
  {
   "cell_type": "code",
   "execution_count": null,
   "metadata": {},
   "outputs": [
    {
     "data": {
      "text/plain": [
       "[]"
      ]
     },
     "execution_count": 35,
     "metadata": {},
     "output_type": "execute_result"
    }
   ],
   "source": [
    "list(l[1])"
   ]
  },
  {
   "cell_type": "code",
   "execution_count": null,
   "metadata": {},
   "outputs": [
    {
     "data": {
      "text/plain": [
       "array([0.09825404, 0.19749887, 0.2719349 , 0.33701089, 0.48076636,\n",
       "       0.77956581, 0.83165854, 0.86254984, 1.08933353, 1.03708398,\n",
       "       1.16976833])"
      ]
     },
     "execution_count": 25,
     "metadata": {},
     "output_type": "execute_result"
    }
   ],
   "source": [
    "np.load(\"summary.npz\")[\"max_successes\"]"
   ]
  },
  {
   "cell_type": "code",
   "execution_count": null,
   "metadata": {},
   "outputs": [],
   "source": []
  }
 ],
 "metadata": {
  "kernelspec": {
   "display_name": "Python 3",
   "language": "python",
   "name": "python3"
  },
  "language_info": {
   "codemirror_mode": {
    "name": "ipython",
    "version": 3
   },
   "file_extension": ".py",
   "mimetype": "text/x-python",
   "name": "python",
   "nbconvert_exporter": "python",
   "pygments_lexer": "ipython3",
   "version": "3.10.14"
  }
 },
 "nbformat": 4,
 "nbformat_minor": 2
}
